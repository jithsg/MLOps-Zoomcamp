{
 "cells": [
  {
   "cell_type": "code",
   "execution_count": 2,
   "metadata": {},
   "outputs": [],
   "source": [
    "class ExampleClass:\n",
    "    def __init__(self, parameter1, parameter2):\n",
    "        self.parameter1 = parameter1\n",
    "        self.parameter2 = parameter2\n",
    "\n",
    "    def __str__(self):\n",
    "        return f\"Parameter 1: {self.parameter1}, Parameter 2: {self.parameter2}\"\n",
    "        "
   ]
  },
  {
   "cell_type": "code",
   "execution_count": 4,
   "metadata": {},
   "outputs": [],
   "source": [
    "e1 = ExampleClass(1, 2)"
   ]
  },
  {
   "cell_type": "code",
   "execution_count": 5,
   "metadata": {},
   "outputs": [],
   "source": [
    "params= {'parameter1': 3, 'parameter2': 4}"
   ]
  },
  {
   "cell_type": "code",
   "execution_count": 6,
   "metadata": {},
   "outputs": [],
   "source": [
    "e2= ExampleClass(**params)"
   ]
  },
  {
   "cell_type": "code",
   "execution_count": null,
   "metadata": {},
   "outputs": [],
   "source": []
  },
  {
   "cell_type": "code",
   "execution_count": 7,
   "metadata": {},
   "outputs": [
    {
     "name": "stdout",
     "output_type": "stream",
     "text": [
      "Parameter 1: 3, Parameter 2: 4\n"
     ]
    }
   ],
   "source": []
  },
  {
   "cell_type": "code",
   "execution_count": 1,
   "metadata": {},
   "outputs": [],
   "source": [
    "simple_param_grid = {\n",
    "    'alpha': [0.1, 1.0],\n",
    "    'l1_ratio': [0.2, 0.8],\n",
    "}\n"
   ]
  },
  {
   "cell_type": "code",
   "execution_count": 2,
   "metadata": {},
   "outputs": [
    {
     "name": "stdout",
     "output_type": "stream",
     "text": [
      "Fitting model with alpha=0.1 and l1_ratio=0.2\n",
      "Evaluating model_0.1_0.2\n",
      "Logged params: {'alpha': 0.1, 'l1_ratio': 0.2}\n",
      "Logged metrics: {'score': 0.9}\n",
      "---\n",
      "Fitting model with alpha=0.1 and l1_ratio=0.8\n",
      "Evaluating model_0.1_0.8\n",
      "Logged params: {'alpha': 0.1, 'l1_ratio': 0.8}\n",
      "Logged metrics: {'score': 0.9}\n",
      "---\n",
      "Fitting model with alpha=1.0 and l1_ratio=0.2\n",
      "Evaluating model_1.0_0.2\n",
      "Logged params: {'alpha': 1.0, 'l1_ratio': 0.2}\n",
      "Logged metrics: {'score': 0.9}\n",
      "---\n",
      "Fitting model with alpha=1.0 and l1_ratio=0.8\n",
      "Evaluating model_1.0_0.8\n",
      "Logged params: {'alpha': 1.0, 'l1_ratio': 0.8}\n",
      "Logged metrics: {'score': 0.9}\n",
      "---\n"
     ]
    }
   ],
   "source": [
    "from sklearn.model_selection import ParameterGrid\n",
    "\n",
    "# Simulated function to \"fit\" a model\n",
    "def fit_model(alpha, l1_ratio):\n",
    "    print(f\"Fitting model with alpha={alpha} and l1_ratio={l1_ratio}\")\n",
    "    # Simulate model fitting\n",
    "    return f\"model_{alpha}_{l1_ratio}\"\n",
    "\n",
    "# Simulated function to \"evaluate\" the model\n",
    "def evaluate_model(model):\n",
    "    # Simulate evaluation\n",
    "    print(f\"Evaluating {model}\")\n",
    "    return {\"score\": 0.9}  # Simulated score\n",
    "\n",
    "for params in ParameterGrid(simple_param_grid):\n",
    "    # Simulate fitting a model with the current combination of parameters\n",
    "    model = fit_model(alpha=params['alpha'], l1_ratio=params['l1_ratio'])\n",
    "    \n",
    "    # Simulate evaluating the model\n",
    "    metrics = evaluate_model(model)\n",
    "    \n",
    "    # Simulate logging the parameters and metrics (in a real scenario, this would use MLflow or another logging tool)\n",
    "    print(f\"Logged params: {params}\")\n",
    "    print(f\"Logged metrics: {metrics}\")\n",
    "    print(\"---\")\n"
   ]
  },
  {
   "cell_type": "code",
   "execution_count": null,
   "metadata": {},
   "outputs": [],
   "source": []
  }
 ],
 "metadata": {
  "kernelspec": {
   "display_name": "mlflow_demo",
   "language": "python",
   "name": "python3"
  },
  "language_info": {
   "codemirror_mode": {
    "name": "ipython",
    "version": 3
   },
   "file_extension": ".py",
   "mimetype": "text/x-python",
   "name": "python",
   "nbconvert_exporter": "python",
   "pygments_lexer": "ipython3",
   "version": "3.11.7"
  }
 },
 "nbformat": 4,
 "nbformat_minor": 2
}
