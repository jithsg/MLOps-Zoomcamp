{
 "cells": [
  {
   "cell_type": "code",
   "execution_count": 1,
   "metadata": {},
   "outputs": [],
   "source": [
    "from mlflow.tracking import MlflowClient\n",
    "\n",
    "MLFLOW_TRACKING_URI= \"sqlite:///mlruns.db\""
   ]
  },
  {
   "cell_type": "code",
   "execution_count": 2,
   "metadata": {},
   "outputs": [],
   "source": [
    "client = MlflowClient(tracking_uri=MLFLOW_TRACKING_URI)"
   ]
  },
  {
   "cell_type": "code",
   "execution_count": 4,
   "metadata": {},
   "outputs": [
    {
     "data": {
      "text/plain": [
       "[<Experiment: artifact_location='/home/jithish/Documents/zoomcamp/03/mlruns/0', creation_time=1706010704804, experiment_id='0', last_update_time=1706010704804, lifecycle_stage='active', name='Default', tags={}>]"
      ]
     },
     "execution_count": 4,
     "metadata": {},
     "output_type": "execute_result"
    }
   ],
   "source": [
    "client.search_experiments()"
   ]
  },
  {
   "cell_type": "code",
   "execution_count": 5,
   "metadata": {},
   "outputs": [
    {
     "data": {
      "text/plain": [
       "'1'"
      ]
     },
     "execution_count": 5,
     "metadata": {},
     "output_type": "execute_result"
    }
   ],
   "source": [
    "client.create_experiment(name= \"test-experiment\")   "
   ]
  },
  {
   "cell_type": "code",
   "execution_count": 9,
   "metadata": {},
   "outputs": [],
   "source": [
    "runs = client.search_runs(experiment_ids=0, max_results=3)"
   ]
  },
  {
   "cell_type": "code",
   "execution_count": 10,
   "metadata": {},
   "outputs": [
    {
     "data": {
      "text/plain": [
       "[<Run: data=<RunData: metrics={'rmse': 6.3371229791404255}, params={'learning_rate': '0.39014707023542117',\n",
       "  'max_depth': '78',\n",
       "  'min_child_weight': '1.1151098920591351',\n",
       "  'objective': 'reg:linear',\n",
       "  'reg_alpha': '0.11321064754505154',\n",
       "  'reg_lambda': '0.0032834799156971307',\n",
       "  'seed': '42'}, tags={'mlflow.log-model.history': '[{\"run_id\": \"c32c1501a6684646a02f166c27cb35f0\", '\n",
       "                              '\"artifact_path\": \"models_mlflow\", '\n",
       "                              '\"utc_time_created\": \"2024-01-24 '\n",
       "                              '14:52:12.546764\", \"flavors\": {\"python_function\": '\n",
       "                              '{\"loader_module\": \"mlflow.xgboost\", '\n",
       "                              '\"python_version\": \"3.11.7\", \"data\": \"model.xgb\", '\n",
       "                              '\"env\": {\"conda\": \"conda.yaml\", \"virtualenv\": '\n",
       "                              '\"python_env.yaml\"}}, \"xgboost\": {\"xgb_version\": '\n",
       "                              '\"2.0.3\", \"data\": \"model.xgb\", \"model_class\": '\n",
       "                              '\"xgboost.core.Booster\", \"model_format\": \"xgb\", '\n",
       "                              '\"code\": null}}, \"model_uuid\": '\n",
       "                              '\"1c7f6d31470f4a499e15e961fcd81d1c\", '\n",
       "                              '\"mlflow_version\": \"2.9.2\", \"model_size_bytes\": '\n",
       "                              '3160021}]',\n",
       "  'mlflow.runName': 'dazzling-pig-389',\n",
       "  'mlflow.source.name': '/home/jithish/.cache/pypoetry/virtualenvs/zoomcamp-LVGFZID_-py3.11/lib/python3.11/site-packages/ipykernel_launcher.py',\n",
       "  'mlflow.source.type': 'LOCAL',\n",
       "  'mlflow.user': 'jithish',\n",
       "  'model': 'xgboost'}>, info=<RunInfo: artifact_uri='/home/jithish/Documents/zoomcamp/03/mlruns/0/c32c1501a6684646a02f166c27cb35f0/artifacts', end_time=1706107934113, experiment_id='0', lifecycle_stage='active', run_id='c32c1501a6684646a02f166c27cb35f0', run_name='dazzling-pig-389', run_uuid='c32c1501a6684646a02f166c27cb35f0', start_time=1706107900269, status='FINISHED', user_id='jithish'>, inputs=<RunInputs: dataset_inputs=[]>>,\n",
       " <Run: data=<RunData: metrics={'best_iteration': 99.0,\n",
       "  'rmse': 6.3371229791404255,\n",
       "  'stopped_iteration': 99.0,\n",
       "  'validation-rmse': 6.337122975968415}, params={'custom_metric': 'None',\n",
       "  'early_stopping_rounds': '10',\n",
       "  'learning_rate': '0.39014707023542117',\n",
       "  'max_depth': '78',\n",
       "  'maximize': 'None',\n",
       "  'min_child_weight': '1.1151098920591351',\n",
       "  'num_boost_round': '100',\n",
       "  'objective': 'reg:linear',\n",
       "  'reg_alpha': '0.11321064754505154',\n",
       "  'reg_lambda': '0.0032834799156971307',\n",
       "  'seed': '42',\n",
       "  'verbose_eval': 'True'}, tags={'mlflow.log-model.history': '[{\"run_id\": \"1190bccc40cc472994c45a65c085f004\", '\n",
       "                              '\"artifact_path\": \"model\", \"utc_time_created\": '\n",
       "                              '\"2024-01-24 14:34:03.881421\", \"flavors\": '\n",
       "                              '{\"python_function\": {\"loader_module\": '\n",
       "                              '\"mlflow.xgboost\", \"python_version\": \"3.11.7\", '\n",
       "                              '\"data\": \"model.xgb\", \"env\": {\"conda\": '\n",
       "                              '\"conda.yaml\", \"virtualenv\": \"python_env.yaml\"}}, '\n",
       "                              '\"xgboost\": {\"xgb_version\": \"2.0.3\", \"data\": '\n",
       "                              '\"model.xgb\", \"model_class\": '\n",
       "                              '\"xgboost.core.Booster\", \"model_format\": \"xgb\", '\n",
       "                              '\"code\": null}}, \"model_uuid\": '\n",
       "                              '\"522706a1c9cc4eaebdfce469b31fe1ea\", '\n",
       "                              '\"mlflow_version\": \"2.9.2\", \"model_size_bytes\": '\n",
       "                              '3160021}, {\"run_id\": '\n",
       "                              '\"1190bccc40cc472994c45a65c085f004\", '\n",
       "                              '\"artifact_path\": \"models_mlflow\", '\n",
       "                              '\"utc_time_created\": \"2024-01-24 '\n",
       "                              '14:34:05.759237\", \"flavors\": {\"python_function\": '\n",
       "                              '{\"loader_module\": \"mlflow.xgboost\", '\n",
       "                              '\"python_version\": \"3.11.7\", \"data\": \"model.xgb\", '\n",
       "                              '\"env\": {\"conda\": \"conda.yaml\", \"virtualenv\": '\n",
       "                              '\"python_env.yaml\"}}, \"xgboost\": {\"xgb_version\": '\n",
       "                              '\"2.0.3\", \"data\": \"model.xgb\", \"model_class\": '\n",
       "                              '\"xgboost.core.Booster\", \"model_format\": \"xgb\", '\n",
       "                              '\"code\": null}}, \"model_uuid\": '\n",
       "                              '\"da445a9650bb49c7bd978c9a5623e83e\", '\n",
       "                              '\"mlflow_version\": \"2.9.2\", \"model_size_bytes\": '\n",
       "                              '3160021}]',\n",
       "  'mlflow.runName': 'thoughtful-stork-381',\n",
       "  'mlflow.source.name': '/home/jithish/.cache/pypoetry/virtualenvs/zoomcamp-LVGFZID_-py3.11/lib/python3.11/site-packages/ipykernel_launcher.py',\n",
       "  'mlflow.source.type': 'LOCAL',\n",
       "  'mlflow.user': 'jithish'}>, info=<RunInfo: artifact_uri='/home/jithish/Documents/zoomcamp/03/mlruns/0/1190bccc40cc472994c45a65c085f004/artifacts', end_time=1706106847345, experiment_id='0', lifecycle_stage='active', run_id='1190bccc40cc472994c45a65c085f004', run_name='thoughtful-stork-381', run_uuid='1190bccc40cc472994c45a65c085f004', start_time=1706106772012, status='FINISHED', user_id='jithish'>, inputs=<RunInputs: dataset_inputs=[<DatasetInput: dataset=<Dataset: digest='4c74e29a', name='dataset', profile=('{\"features_shape\": [73908, 13221], \"features_size\": 977137668, '\n",
       "  '\"features_nbytes\": 3908550672}'), schema=('{\"mlflow_tensorspec\": {\"features\": \"[{\\\\\"type\\\\\": \\\\\"tensor\\\\\", '\n",
       "  '\\\\\"tensor-spec\\\\\": {\\\\\"dtype\\\\\": \\\\\"float32\\\\\", \\\\\"shape\\\\\": [-1, '\n",
       "  '13221]}}]\", \"targets\": null}}'), source=('{\"tags\": {\"mlflow.user\": \"jithish\", \"mlflow.source.name\": '\n",
       "  '\"/home/jithish/.cache/pypoetry/virtualenvs/zoomcamp-LVGFZID_-py3.11/lib/python3.11/site-packages/ipykernel_launcher.py\", '\n",
       "  '\"mlflow.source.type\": \"LOCAL\"}}'), source_type='code'>, tags=[<InputTag: key='mlflow.data.context', value='train'>]>,\n",
       "  <DatasetInput: dataset=<Dataset: digest='0f5f0969', name='validation', profile=('{\"features_shape\": [61921, 13221], \"features_size\": 818657541, '\n",
       "  '\"features_nbytes\": 3274630164}'), schema=('{\"mlflow_tensorspec\": {\"features\": \"[{\\\\\"type\\\\\": \\\\\"tensor\\\\\", '\n",
       "  '\\\\\"tensor-spec\\\\\": {\\\\\"dtype\\\\\": \\\\\"float32\\\\\", \\\\\"shape\\\\\": [-1, '\n",
       "  '13221]}}]\", \"targets\": null}}'), source=('{\"tags\": {\"mlflow.user\": \"jithish\", \"mlflow.source.name\": '\n",
       "  '\"/home/jithish/.cache/pypoetry/virtualenvs/zoomcamp-LVGFZID_-py3.11/lib/python3.11/site-packages/ipykernel_launcher.py\", '\n",
       "  '\"mlflow.source.type\": \"LOCAL\"}}'), source_type='code'>, tags=[<InputTag: key='mlflow.data.context', value='eval'>]>]>>,\n",
       " <Run: data=<RunData: metrics={'mean_squared_error_X_val': 11.167275941179728,\n",
       "  'rmse': 11.167275941179728,\n",
       "  'training_mean_absolute_error': 7.946548487205934,\n",
       "  'training_mean_squared_error': 111.31260798576498,\n",
       "  'training_r2_score': 0.16747566728208985,\n",
       "  'training_root_mean_squared_error': 10.550479040582232,\n",
       "  'training_score': 0.16747566728208985}, params={'alpha': '0.01',\n",
       "  'copy_X': 'True',\n",
       "  'fit_intercept': 'True',\n",
       "  'max_iter': '1000',\n",
       "  'positive': 'False',\n",
       "  'precompute': 'False',\n",
       "  'random_state': 'None',\n",
       "  'selection': 'cyclic',\n",
       "  'tol': '0.0001',\n",
       "  'train-data-path': './data/green_tripdata_2021-01.csv',\n",
       "  'valid-data-path': './data/green_tripdata_2021-02.csv',\n",
       "  'warm_start': 'False'}, tags={'developer': 'jithish',\n",
       "  'estimator_class': 'sklearn.linear_model._coordinate_descent.Lasso',\n",
       "  'estimator_name': 'Lasso',\n",
       "  'mlflow.log-model.history': '[{\"run_id\": \"c404ae5df0534dcc8951fc42865be518\", '\n",
       "                              '\"artifact_path\": \"model\", \"utc_time_created\": '\n",
       "                              '\"2024-01-24 14:23:28.596759\", \"flavors\": '\n",
       "                              '{\"python_function\": {\"model_path\": \"model.pkl\", '\n",
       "                              '\"predict_fn\": \"predict\", \"loader_module\": '\n",
       "                              '\"mlflow.sklearn\", \"python_version\": \"3.11.7\", '\n",
       "                              '\"env\": {\"conda\": \"conda.yaml\", \"virtualenv\": '\n",
       "                              '\"python_env.yaml\"}}, \"sklearn\": '\n",
       "                              '{\"pickled_model\": \"model.pkl\", '\n",
       "                              '\"sklearn_version\": \"1.4.0\", '\n",
       "                              '\"serialization_format\": \"cloudpickle\", \"code\": '\n",
       "                              'null}}, \"model_uuid\": '\n",
       "                              '\"74d97f70ff15479583463b539507738d\", '\n",
       "                              '\"mlflow_version\": \"2.9.2\", \"signature\": '\n",
       "                              '{\"inputs\": \"[{\\\\\"type\\\\\": \\\\\"tensor\\\\\", '\n",
       "                              '\\\\\"tensor-spec\\\\\": {\\\\\"dtype\\\\\": \\\\\"float64\\\\\", '\n",
       "                              '\\\\\"shape\\\\\": [-1, 13221]}}]\", \"outputs\": '\n",
       "                              '\"[{\\\\\"type\\\\\": \\\\\"tensor\\\\\", \\\\\"tensor-spec\\\\\": '\n",
       "                              '{\\\\\"dtype\\\\\": \\\\\"float64\\\\\", \\\\\"shape\\\\\": '\n",
       "                              '[-1]}}]\", \"params\": null}, \"model_size_bytes\": '\n",
       "                              '106300}]',\n",
       "  'mlflow.runName': 'glamorous-zebra-370',\n",
       "  'mlflow.source.name': '/home/jithish/.cache/pypoetry/virtualenvs/zoomcamp-LVGFZID_-py3.11/lib/python3.11/site-packages/ipykernel_launcher.py',\n",
       "  'mlflow.source.type': 'LOCAL',\n",
       "  'mlflow.user': 'jithish'}>, info=<RunInfo: artifact_uri='/home/jithish/Documents/zoomcamp/03/mlruns/0/c404ae5df0534dcc8951fc42865be518/artifacts', end_time=1706106211863, experiment_id='0', lifecycle_stage='active', run_id='c404ae5df0534dcc8951fc42865be518', run_name='glamorous-zebra-370', run_uuid='c404ae5df0534dcc8951fc42865be518', start_time=1706106202061, status='FINISHED', user_id='jithish'>, inputs=<RunInputs: dataset_inputs=[<DatasetInput: dataset=<Dataset: digest='d9469a02', name='dataset', profile=('{\"features_shape\": [61921, 13221], \"features_size\": 818657541, '\n",
       "  '\"features_nbytes\": 6549260328}'), schema=('{\"mlflow_tensorspec\": {\"features\": \"[{\\\\\"type\\\\\": \\\\\"tensor\\\\\", '\n",
       "  '\\\\\"tensor-spec\\\\\": {\\\\\"dtype\\\\\": \\\\\"float64\\\\\", \\\\\"shape\\\\\": [-1, '\n",
       "  '13221]}}]\", \"targets\": null}}'), source=('{\"tags\": {\"mlflow.user\": \"jithish\", \"mlflow.source.name\": '\n",
       "  '\"/home/jithish/.cache/pypoetry/virtualenvs/zoomcamp-LVGFZID_-py3.11/lib/python3.11/site-packages/ipykernel_launcher.py\", '\n",
       "  '\"mlflow.source.type\": \"LOCAL\"}}'), source_type='code'>, tags=[<InputTag: key='mlflow.data.context', value='eval'>]>]>>]"
      ]
     },
     "execution_count": 10,
     "metadata": {},
     "output_type": "execute_result"
    }
   ],
   "source": [
    "runs"
   ]
  },
  {
   "cell_type": "code",
   "execution_count": null,
   "metadata": {},
   "outputs": [],
   "source": []
  }
 ],
 "metadata": {
  "kernelspec": {
   "display_name": "zoomcamp-LVGFZID_-py3.11",
   "language": "python",
   "name": "python3"
  },
  "language_info": {
   "codemirror_mode": {
    "name": "ipython",
    "version": 3
   },
   "file_extension": ".py",
   "mimetype": "text/x-python",
   "name": "python",
   "nbconvert_exporter": "python",
   "pygments_lexer": "ipython3",
   "version": "3.11.7"
  }
 },
 "nbformat": 4,
 "nbformat_minor": 2
}
