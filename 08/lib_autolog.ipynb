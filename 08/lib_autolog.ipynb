{
 "cells": [
  {
   "cell_type": "code",
   "execution_count": 3,
   "metadata": {},
   "outputs": [],
   "source": [
    "import mlflow\n",
    "import mlflow.sklearn\n",
    "from sklearn.model_selection import train_test_split\n",
    "from sklearn.datasets import load_diabetes\n",
    "from sklearn.ensemble import RandomForestRegressor\n",
    "from sklearn.metrics import mean_squared_error, r2_score\n",
    "from pathlib import Path"
   ]
  },
  {
   "cell_type": "code",
   "execution_count": 4,
   "metadata": {},
   "outputs": [
    {
     "name": "stderr",
     "output_type": "stream",
     "text": [
      "2024/01/30 04:04:50 INFO mlflow.tracking.fluent: Experiment with name 'RandomForestRegression-autolog2' does not exist. Creating a new experiment.\n"
     ]
    },
    {
     "name": "stdout",
     "output_type": "stream",
     "text": [
      "The current experiment is <Experiment: artifact_location='file:///home/jithish/Documents/zoomcamp/08/mlruns/312115887077044749', creation_time=1706558690561, experiment_id='312115887077044749', last_update_time=1706558690561, lifecycle_stage='active', name='RandomForestRegression-autolog2', tags={}>\n",
      "The current experiment id is 312115887077044749\n"
     ]
    }
   ],
   "source": [
    "\n",
    "# if mlflow.active_run():\n",
    "#     mlflow.end_run()\n",
    "\n",
    "\n",
    "exp = mlflow.set_experiment(\"RandomForestRegression-autolog2\")\n",
    "\n",
    "mlflow.start_run(experiment_id=exp.experiment_id, run_name=\"run-1-rf\")\n",
    "print(f'The current experiment is {exp}')\n",
    "print(f'The current experiment id is {exp.experiment_id}')\n",
    "mlflow.sklearn.autolog()    \n",
    "\n",
    "db = load_diabetes()\n",
    "X_train, X_test, y_train, y_test = train_test_split(db.data, db.target)\n",
    "\n",
    "    # Create and train models.\n",
    "rf = RandomForestRegressor(n_estimators=100, max_depth=6, max_features=3)\n",
    "rf.fit(X_train, y_train)\n",
    "\n",
    "    # Use the model to make predictions on the test dataset.\n",
    "predictions = rf.predict(X_test)\n",
    "\n",
    "\n",
    "mlflow.sklearn.log_model(rf, \"random-forest-model-1\")\n",
    "\n",
    "mlflow.end_run()\n",
    "\n",
    "\n",
    "\n"
   ]
  }
 ],
 "metadata": {
  "kernelspec": {
   "display_name": "zoomcamp-LVGFZID_-py3.11",
   "language": "python",
   "name": "python3"
  },
  "language_info": {
   "codemirror_mode": {
    "name": "ipython",
    "version": 3
   },
   "file_extension": ".py",
   "mimetype": "text/x-python",
   "name": "python",
   "nbconvert_exporter": "python",
   "pygments_lexer": "ipython3",
   "version": "3.11.7"
  }
 },
 "nbformat": 4,
 "nbformat_minor": 2
}
