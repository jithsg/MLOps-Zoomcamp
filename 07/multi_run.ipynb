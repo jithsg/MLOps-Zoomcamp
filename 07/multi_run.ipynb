{
 "cells": [
  {
   "cell_type": "code",
   "execution_count": 18,
   "metadata": {},
   "outputs": [],
   "source": [
    "import mlflow\n",
    "import mlflow.sklearn\n",
    "from sklearn.model_selection import train_test_split\n",
    "from sklearn.datasets import load_diabetes\n",
    "from sklearn.ensemble import RandomForestRegressor\n",
    "from sklearn.metrics import mean_squared_error, r2_score\n",
    "from pathlib import Path\n",
    "from sklearn.linear_model import Ridge, Lasso"
   ]
  },
  {
   "cell_type": "code",
   "execution_count": 19,
   "metadata": {},
   "outputs": [
    {
     "name": "stdout",
     "output_type": "stream",
     "text": [
      "The current experiment is <Experiment: artifact_location='file:///home/jithish/Documents/zoomcamp/07/mlruns/153930598430356379', creation_time=1706556406909, experiment_id='153930598430356379', last_update_time=1706556406909, lifecycle_stage='active', name='multi-runs-RandomForestRegression', tags={}>\n",
      "The current experiment id is 153930598430356379\n"
     ]
    },
    {
     "name": "stderr",
     "output_type": "stream",
     "text": [
      "/home/jithish/.cache/pypoetry/virtualenvs/zoomcamp-LVGFZID_-py3.11/lib/python3.11/site-packages/_distutils_hack/__init__.py:18: UserWarning: Distutils was imported before Setuptools, but importing Setuptools also replaces the `distutils` module in `sys.modules`. This may lead to undesirable behaviors or errors. To avoid these issues, avoid using distutils directly, ensure that setuptools is installed in the traditional way (e.g. not an editable install), and/or make sure that setuptools is always imported before distutils.\n",
      "  warnings.warn(\n",
      "/home/jithish/.cache/pypoetry/virtualenvs/zoomcamp-LVGFZID_-py3.11/lib/python3.11/site-packages/_distutils_hack/__init__.py:33: UserWarning: Setuptools is replacing distutils.\n",
      "  warnings.warn(\"Setuptools is replacing distutils.\")\n"
     ]
    },
    {
     "name": "stdout",
     "output_type": "stream",
     "text": [
      "The current experiment is <Experiment: artifact_location='file:///home/jithish/Documents/zoomcamp/07/mlruns/153930598430356379', creation_time=1706556406909, experiment_id='153930598430356379', last_update_time=1706556406909, lifecycle_stage='active', name='multi-runs-RandomForestRegression', tags={}>\n",
      "The current experiment id is 153930598430356379\n"
     ]
    },
    {
     "name": "stderr",
     "output_type": "stream",
     "text": [
      "/home/jithish/.cache/pypoetry/virtualenvs/zoomcamp-LVGFZID_-py3.11/lib/python3.11/site-packages/_distutils_hack/__init__.py:18: UserWarning: Distutils was imported before Setuptools, but importing Setuptools also replaces the `distutils` module in `sys.modules`. This may lead to undesirable behaviors or errors. To avoid these issues, avoid using distutils directly, ensure that setuptools is installed in the traditional way (e.g. not an editable install), and/or make sure that setuptools is always imported before distutils.\n",
      "  warnings.warn(\n",
      "/home/jithish/.cache/pypoetry/virtualenvs/zoomcamp-LVGFZID_-py3.11/lib/python3.11/site-packages/_distutils_hack/__init__.py:33: UserWarning: Setuptools is replacing distutils.\n",
      "  warnings.warn(\"Setuptools is replacing distutils.\")\n"
     ]
    },
    {
     "name": "stdout",
     "output_type": "stream",
     "text": [
      "The current experiment is <Experiment: artifact_location='file:///home/jithish/Documents/zoomcamp/07/mlruns/153930598430356379', creation_time=1706556406909, experiment_id='153930598430356379', last_update_time=1706556406909, lifecycle_stage='active', name='multi-runs-RandomForestRegression', tags={}>\n",
      "The current experiment id is 153930598430356379\n"
     ]
    },
    {
     "name": "stderr",
     "output_type": "stream",
     "text": [
      "/home/jithish/.cache/pypoetry/virtualenvs/zoomcamp-LVGFZID_-py3.11/lib/python3.11/site-packages/_distutils_hack/__init__.py:18: UserWarning: Distutils was imported before Setuptools, but importing Setuptools also replaces the `distutils` module in `sys.modules`. This may lead to undesirable behaviors or errors. To avoid these issues, avoid using distutils directly, ensure that setuptools is installed in the traditional way (e.g. not an editable install), and/or make sure that setuptools is always imported before distutils.\n",
      "  warnings.warn(\n",
      "/home/jithish/.cache/pypoetry/virtualenvs/zoomcamp-LVGFZID_-py3.11/lib/python3.11/site-packages/_distutils_hack/__init__.py:33: UserWarning: Setuptools is replacing distutils.\n",
      "  warnings.warn(\"Setuptools is replacing distutils.\")\n"
     ]
    }
   ],
   "source": [
    "if mlflow.active_run():\n",
    "    mlflow.end_run()\n",
    "\n",
    "\n",
    "exp = mlflow.set_experiment(\"multi-runs-RandomForestRegression\")\n",
    "\n",
    "mlflow.start_run(experiment_id=exp.experiment_id, run_name=\"run-1-rf\")\n",
    "print(f'The current experiment is {exp}')\n",
    "print(f'The current experiment id is {exp.experiment_id}')\n",
    "\n",
    "db = load_diabetes()\n",
    "X_train, X_test, y_train, y_test = train_test_split(db.data, db.target)\n",
    "\n",
    "    # Create and train models.\n",
    "rf = RandomForestRegressor(n_estimators=100, max_depth=6, max_features=3)\n",
    "rf.fit(X_train, y_train)\n",
    "\n",
    "    # Use the model to make predictions on the test dataset.\n",
    "predictions = rf.predict(X_test)\n",
    "mlflow.log_metrics({\"mse\": mean_squared_error(y_test, predictions), \"r2\": r2_score(y_test, predictions)})\n",
    "mlflow.log_params({\"n_estimators\": 100, \"max_depth\": 6, \"max_features\": 3})\n",
    "mlflow.log_artifacts(\"./data\")\n",
    "\n",
    "mlflow.sklearn.log_model(rf, \"random-forest-model-1\")\n",
    "\n",
    "mlflow.end_run()\n",
    "\n",
    "################################################################################3\n",
    "\n",
    "mlflow.start_run(experiment_id=exp.experiment_id, run_name=\"run-2-rf\")\n",
    "print(f'The current experiment is {exp}')\n",
    "print(f'The current experiment id is {exp.experiment_id}')\n",
    "\n",
    "db = load_diabetes()\n",
    "X_train, X_test, y_train, y_test = train_test_split(db.data, db.target)\n",
    "\n",
    "    # Create and train models.\n",
    "rf = RandomForestRegressor(n_estimators=120, max_depth=8, max_features=3)\n",
    "rf.fit(X_train, y_train)\n",
    "\n",
    "    # Use the model to make predictions on the test dataset.\n",
    "predictions = rf.predict(X_test)\n",
    "mlflow.log_metrics({\"mse\": mean_squared_error(y_test, predictions), \"r2\": r2_score(y_test, predictions)})\n",
    "mlflow.log_params({\"n_estimators\": 120, \"max_depth\": 8, \"max_features\": 3})\n",
    "mlflow.log_artifacts(\"./data\")\n",
    "\n",
    "mlflow.sklearn.log_model(rf, \"random-forest-model-2\")\n",
    "\n",
    "mlflow.end_run()\n",
    "\n",
    "############################################################################\n",
    "mlflow.start_run(experiment_id=exp.experiment_id, run_name=\"run-3-rf\")\n",
    "print(f'The current experiment is {exp}')\n",
    "print(f'The current experiment id is {exp.experiment_id}')\n",
    "\n",
    "db = load_diabetes()\n",
    "X_train, X_test, y_train, y_test = train_test_split(db.data, db.target)\n",
    "\n",
    "    # Create and train models.\n",
    "rf = RandomForestRegressor(n_estimators=100, max_depth=8, max_features=4)\n",
    "rf.fit(X_train, y_train)\n",
    "\n",
    "    # Use the model to make predictions on the test dataset.\n",
    "predictions = rf.predict(X_test)\n",
    "mlflow.log_metrics({\"mse\": mean_squared_error(y_test, predictions), \"r2\": r2_score(y_test, predictions)})\n",
    "mlflow.log_params({\"n_estimators\": 100, \"max_depth\": 8, \"max_features\": 4})\n",
    "mlflow.log_artifacts(\"./data\")\n",
    "\n",
    "mlflow.sklearn.log_model(rf, \"random-forest-model-3\")\n",
    "\n",
    "mlflow.end_run()"
   ]
  },
  {
   "cell_type": "code",
   "execution_count": 20,
   "metadata": {},
   "outputs": [
    {
     "name": "stdout",
     "output_type": "stream",
     "text": [
      "The current experiment is <Experiment: artifact_location='file:///home/jithish/Documents/zoomcamp/07/mlruns/497873786957786963', creation_time=1706556412170, experiment_id='497873786957786963', last_update_time=1706556412170, lifecycle_stage='active', name='multi-runs-RidgeRegression', tags={}>\n",
      "The current experiment id is 497873786957786963\n"
     ]
    },
    {
     "name": "stderr",
     "output_type": "stream",
     "text": [
      "/home/jithish/.cache/pypoetry/virtualenvs/zoomcamp-LVGFZID_-py3.11/lib/python3.11/site-packages/_distutils_hack/__init__.py:18: UserWarning: Distutils was imported before Setuptools, but importing Setuptools also replaces the `distutils` module in `sys.modules`. This may lead to undesirable behaviors or errors. To avoid these issues, avoid using distutils directly, ensure that setuptools is installed in the traditional way (e.g. not an editable install), and/or make sure that setuptools is always imported before distutils.\n",
      "  warnings.warn(\n",
      "/home/jithish/.cache/pypoetry/virtualenvs/zoomcamp-LVGFZID_-py3.11/lib/python3.11/site-packages/_distutils_hack/__init__.py:33: UserWarning: Setuptools is replacing distutils.\n",
      "  warnings.warn(\"Setuptools is replacing distutils.\")\n"
     ]
    },
    {
     "name": "stdout",
     "output_type": "stream",
     "text": [
      "The current experiment is <Experiment: artifact_location='file:///home/jithish/Documents/zoomcamp/07/mlruns/497873786957786963', creation_time=1706556412170, experiment_id='497873786957786963', last_update_time=1706556412170, lifecycle_stage='active', name='multi-runs-RidgeRegression', tags={}>\n",
      "The current experiment id is 497873786957786963\n"
     ]
    },
    {
     "name": "stderr",
     "output_type": "stream",
     "text": [
      "/home/jithish/.cache/pypoetry/virtualenvs/zoomcamp-LVGFZID_-py3.11/lib/python3.11/site-packages/_distutils_hack/__init__.py:18: UserWarning: Distutils was imported before Setuptools, but importing Setuptools also replaces the `distutils` module in `sys.modules`. This may lead to undesirable behaviors or errors. To avoid these issues, avoid using distutils directly, ensure that setuptools is installed in the traditional way (e.g. not an editable install), and/or make sure that setuptools is always imported before distutils.\n",
      "  warnings.warn(\n",
      "/home/jithish/.cache/pypoetry/virtualenvs/zoomcamp-LVGFZID_-py3.11/lib/python3.11/site-packages/_distutils_hack/__init__.py:33: UserWarning: Setuptools is replacing distutils.\n",
      "  warnings.warn(\"Setuptools is replacing distutils.\")\n"
     ]
    },
    {
     "name": "stdout",
     "output_type": "stream",
     "text": [
      "The current experiment is <Experiment: artifact_location='file:///home/jithish/Documents/zoomcamp/07/mlruns/497873786957786963', creation_time=1706556412170, experiment_id='497873786957786963', last_update_time=1706556412170, lifecycle_stage='active', name='multi-runs-RidgeRegression', tags={}>\n",
      "The current experiment id is 497873786957786963\n"
     ]
    },
    {
     "name": "stderr",
     "output_type": "stream",
     "text": [
      "/home/jithish/.cache/pypoetry/virtualenvs/zoomcamp-LVGFZID_-py3.11/lib/python3.11/site-packages/_distutils_hack/__init__.py:18: UserWarning: Distutils was imported before Setuptools, but importing Setuptools also replaces the `distutils` module in `sys.modules`. This may lead to undesirable behaviors or errors. To avoid these issues, avoid using distutils directly, ensure that setuptools is installed in the traditional way (e.g. not an editable install), and/or make sure that setuptools is always imported before distutils.\n",
      "  warnings.warn(\n",
      "/home/jithish/.cache/pypoetry/virtualenvs/zoomcamp-LVGFZID_-py3.11/lib/python3.11/site-packages/_distutils_hack/__init__.py:33: UserWarning: Setuptools is replacing distutils.\n",
      "  warnings.warn(\"Setuptools is replacing distutils.\")\n"
     ]
    }
   ],
   "source": [
    "if mlflow.active_run():\n",
    "    mlflow.end_run()\n",
    "\n",
    "\n",
    "exp = mlflow.set_experiment(\"multi-runs-RidgeRegression\")\n",
    "\n",
    "mlflow.start_run(experiment_id=exp.experiment_id, run_name=\"run-1-rr\")\n",
    "print(f'The current experiment is {exp}')\n",
    "print(f'The current experiment id is {exp.experiment_id}')\n",
    "\n",
    "db = load_diabetes()\n",
    "X_train, X_test, y_train, y_test = train_test_split(db.data, db.target)\n",
    "\n",
    "    # Create and train models.\n",
    "alpha = 0.1  # Adjust alpha as needed\n",
    "ridge_model = Ridge(alpha=alpha)\n",
    "ridge_model.fit(X_train, y_train)\n",
    "\n",
    "    # Use the model to make predictions on the test dataset.\n",
    "predictions = ridge_model.predict(X_test)\n",
    "mlflow.log_metrics({\"mse\": mean_squared_error(y_test, predictions), \"r2\": r2_score(y_test, predictions)})\n",
    "mlflow.log_params({\"alpha\": alpha})\n",
    "mlflow.log_artifacts(\"./data\")\n",
    "\n",
    "mlflow.sklearn.log_model(ridge_model, \"ridge-model-1\")\n",
    "\n",
    "mlflow.end_run()\n",
    "\n",
    "################################################################################3\n",
    "\n",
    "\n",
    "mlflow.start_run(experiment_id=exp.experiment_id, run_name=\"run-2-rr\")\n",
    "print(f'The current experiment is {exp}')\n",
    "print(f'The current experiment id is {exp.experiment_id}')\n",
    "\n",
    "db = load_diabetes()\n",
    "X_train, X_test, y_train, y_test = train_test_split(db.data, db.target)\n",
    "\n",
    "    # Create and train models.\n",
    "alpha = 0.2  # Adjust alpha as needed\n",
    "ridge_model = Ridge(alpha=alpha)\n",
    "ridge_model.fit(X_train, y_train)\n",
    "\n",
    "    # Use the model to make predictions on the test dataset.\n",
    "predictions = ridge_model.predict(X_test)\n",
    "mlflow.log_metrics({\"mse\": mean_squared_error(y_test, predictions), \"r2\": r2_score(y_test, predictions)})\n",
    "mlflow.log_params({\"alpha\": alpha})\n",
    "mlflow.log_artifacts(\"./data\")\n",
    "\n",
    "mlflow.sklearn.log_model(ridge_model, \"ridge-model-2\")\n",
    "\n",
    "mlflow.end_run()\n",
    "\n",
    "############################################################################\n",
    "\n",
    "mlflow.start_run(experiment_id=exp.experiment_id, run_name=\"run-3-rr\")\n",
    "print(f'The current experiment is {exp}')\n",
    "print(f'The current experiment id is {exp.experiment_id}')\n",
    "\n",
    "db = load_diabetes()\n",
    "X_train, X_test, y_train, y_test = train_test_split(db.data, db.target)\n",
    "\n",
    "    # Create and train models.\n",
    "alpha = 0.3  # Adjust alpha as needed\n",
    "ridge_model = Ridge(alpha=alpha)\n",
    "ridge_model.fit(X_train, y_train)\n",
    "\n",
    "    # Use the model to make predictions on the test dataset.\n",
    "predictions = ridge_model.predict(X_test)\n",
    "mlflow.log_metrics({\"mse\": mean_squared_error(y_test, predictions), \"r2\": r2_score(y_test, predictions)})\n",
    "mlflow.log_params({\"alpha\": alpha})\n",
    "mlflow.log_artifacts(\"./data\")\n",
    "\n",
    "mlflow.sklearn.log_model(ridge_model, \"ridge-model-3\")\n",
    "\n",
    "mlflow.end_run()\n"
   ]
  }
 ],
 "metadata": {
  "kernelspec": {
   "display_name": "zoomcamp-LVGFZID_-py3.11",
   "language": "python",
   "name": "python3"
  },
  "language_info": {
   "codemirror_mode": {
    "name": "ipython",
    "version": 3
   },
   "file_extension": ".py",
   "mimetype": "text/x-python",
   "name": "python",
   "nbconvert_exporter": "python",
   "pygments_lexer": "ipython3",
   "version": "3.11.7"
  }
 },
 "nbformat": 4,
 "nbformat_minor": 2
}
